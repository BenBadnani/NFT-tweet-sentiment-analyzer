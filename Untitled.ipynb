{
 "cells": [
  {
   "cell_type": "code",
   "execution_count": 8,
   "id": "d194300a",
   "metadata": {},
   "outputs": [],
   "source": [
    "import re\n",
    "import requests\n",
    "from urllib.request import urlopen\n",
    "from bs4 import BeautifulSoup\n",
    "from newspaper import Article\n",
    "import spacy\n",
    "nlp = spacy.load('en_core_web_sm')\n",
    "from tqdm.notebook import tqdm \n",
    "from collections import Counter"
   ]
  },
  {
   "cell_type": "code",
   "execution_count": 2,
   "id": "2edac040",
   "metadata": {},
   "outputs": [],
   "source": [
    "response = requests.get(url='https://www.foxnews.com/sitemap.xml?type=news')\n",
    "soup=BeautifulSoup(response.content)\n",
    "news_articles_fox = ['https://www.foxnews' + i for i in re.findall(r'https://www.foxnews([^< ]+)', str(soup))][:100]"
   ]
  },
  {
   "cell_type": "code",
   "execution_count": 3,
   "id": "43120449",
   "metadata": {},
   "outputs": [],
   "source": [
    "response_abc = requests.get(url='https://abcnews.go.com/abcnews/usheadlines')\n",
    "soup2=BeautifulSoup(response_abc.content)\n",
    "abc_stories = ['https://abcnews.go.com' + i for i in  list(set(re.findall(r'\\[https://abcnews.go.com([^\\] ]+)', str(soup2))))]"
   ]
  },
  {
   "cell_type": "code",
   "execution_count": 17,
   "id": "4a1f6211",
   "metadata": {},
   "outputs": [],
   "source": [
    "def get_text_of_article(url):\n",
    "    article = Article(url)\n",
    "    article.download()\n",
    "    article.parse()\n",
    "    text=article.text\n",
    "    return text"
   ]
  },
  {
   "cell_type": "code",
   "execution_count": null,
   "id": "03b9fc15",
   "metadata": {},
   "outputs": [
    {
     "data": {
      "application/vnd.jupyter.widget-view+json": {
       "model_id": "5bb6bff44cb94c61a57fdda37993da97",
       "version_major": 2,
       "version_minor": 0
      },
      "text/plain": [
       "  0%|          | 0/100 [00:00<?, ?it/s]"
      ]
     },
     "metadata": {},
     "output_type": "display_data"
    }
   ],
   "source": [
    "preprocessed_fox_stories = []\n",
    "\n",
    "for story in tqdm(news_articles_fox): \n",
    "    text = get_text_of_article(story)\n",
    "    preprocessed_fox_stories.extend(nlp(text.replace('\\n', '')))\n"
   ]
  },
  {
   "cell_type": "code",
   "execution_count": 6,
   "id": "8b141d40",
   "metadata": {},
   "outputs": [],
   "source": [
    "preprocessed_abc_stories = []\n",
    "\n",
    "for story in tqdm(abc_stories): \n",
    "    text = get_text_of_article(story)\n",
    "    preprocessed_abc_stories.extend(nlp(text.replace('\\n', '')))\n",
    "\n"
   ]
  },
  {
   "cell_type": "code",
   "execution_count": 9,
   "id": "fa4dec57",
   "metadata": {},
   "outputs": [],
   "source": [
    "fox_words = Counter([token.lemma_.lower() for token in preprocessed_fox_stories if (not token.is_stop) and (not token.is_punct)])\n",
    "abc_words = Counter([token.lemma_.lower() for token in preprocessed_abc_stories if (not token.is_stop) and (not token.is_punct)])"
   ]
  },
  {
   "cell_type": "code",
   "execution_count": 10,
   "id": "4ac3e85f",
   "metadata": {},
   "outputs": [
    {
     "data": {
      "text/plain": [
       "Counter()"
      ]
     },
     "execution_count": 10,
     "metadata": {},
     "output_type": "execute_result"
    }
   ],
   "source": [
    "fox_words"
   ]
  }
 ],
 "metadata": {
  "kernelspec": {
   "display_name": "Python 3 (ipykernel)",
   "language": "python",
   "name": "python3"
  },
  "language_info": {
   "codemirror_mode": {
    "name": "ipython",
    "version": 3
   },
   "file_extension": ".py",
   "mimetype": "text/x-python",
   "name": "python",
   "nbconvert_exporter": "python",
   "pygments_lexer": "ipython3",
   "version": "3.9.9"
  }
 },
 "nbformat": 4,
 "nbformat_minor": 5
}
